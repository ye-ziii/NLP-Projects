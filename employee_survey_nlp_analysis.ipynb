{
  "cells": [
    {
      "cell_type": "markdown",
      "metadata": {
        "id": "vOPAg_qYgGOC"
      },
      "source": [
        "# NLP Analysis of Employee Engagement Survey\n",
        "\n",
        "## Summary\n",
        "This project aims to apply NLP and data visualization techniques to automate the insight extraction of employee surveys and discover potential issues and highlights in the survey responses to help HR better design employee experience.\n",
        "\n",
        "## Data\n",
        "The employee survey responses in the company.\n",
        "\n",
        "## Project Sections\n",
        " - Snowflake Data Preprocessing & Loading\n",
        "    - Sentiment Score and Summarization Generation with Snowflake LLM Functions\n",
        " - Survey Respondent Profile Analysis\n",
        " - Response Sentiment Analysis\n",
        " - Word Cloud of Frequent Keywords\n",
        " - Topic Modeling with BERTopic\n",
        " - Topic Grouping into Broad Categories\n",
        " - Targeted Sentiment Analysis around Topic Categories\n",
        "\n",
        "\n",
        " ## Author and Platform\n",
        "Yezi Liu conducted this project in AWS with the support from teammates.\n",
        "\n",
        " _**(Important Note: for the purpose of data & company privacy, the code below is modified to contain some pseudo-code, but the workflows and logic are the same)**_"
      ]
    },
    {
      "cell_type": "code",
      "execution_count": null,
      "metadata": {
        "id": "guvlsXaVeWhq",
        "tags": []
      },
      "outputs": [],
      "source": [
        "# running this cell may make changes to your environment\n",
        "# !pip install -r requirements.txt"
      ]
    },
    {
      "cell_type": "markdown",
      "metadata": {
        "id": "3NyPVMwueWhq"
      },
      "source": [
        "## Install Packages"
      ]
    },
    {
      "cell_type": "code",
      "execution_count": null,
      "metadata": {
        "id": "MXlqBj4_eWhq",
        "tags": []
      },
      "outputs": [],
      "source": [
        "# Helper functions\n",
        "# ** Note: This utilities file with all the helper functions isn't included in this notebook or repo for the protection of the company privacy.**\n",
        "from utilities import *\n",
        "\n",
        "# Snowpark\n",
        "import snowflake.snowpark.functions as F\n",
        "from snowflake.snowpark.functions import when, date_part\n",
        "\n",
        "# Cortex Functions\n",
        "import snowflake.cortex  as cortex\n",
        "from snowflake.snowpark import Session\n",
        "\n",
        "# Python packages\n",
        "import pandas as pd\n",
        "import seaborn as sns\n",
        "import matplotlib.pyplot as plt\n",
        "from matplotlib.colors import ListedColormap, LinearSegmentedColormap\n",
        "import numpy as np\n",
        "import os\n",
        "import re\n",
        "import string\n",
        "import nltk\n",
        "from nltk.corpus import stopwords\n",
        "from nltk.corpus import wordnet\n",
        "from wordcloud import WordCloud\n",
        "from nltk.tokenize import word_tokenize\n",
        "from nltk.stem import WordNetLemmatizer\n",
        "from nltk.tokenize import sent_tokenize\n",
        "from nltk.probability import FreqDist\n",
        "from collections import Counter\n",
        "from bertopic import BERTopic\n",
        "\n",
        "nltk.download('wordnet')\n",
        "nltk.download('punkt')\n",
        "nltk.download('stopwords')"
      ]
    },
    {
      "cell_type": "markdown",
      "metadata": {
        "id": "3MAnju7WeWhr"
      },
      "source": [
        "## Snowflake Data Preprocessing and Loading"
      ]
    },
    {
      "cell_type": "code",
      "execution_count": null,
      "metadata": {
        "id": "F5vJWd4EeWhr",
        "tags": []
      },
      "outputs": [],
      "source": [
        "user = \"user_name\"\n",
        "input_db = \"database_name\"\n",
        "input_schema = \"schema_name\"\n",
        "# define connectors to snowflake (make sure to use correct role)\n",
        "cur, conn = connect_to_snowflake(user, input_db, input_schema)"
      ]
    },
    {
      "cell_type": "code",
      "execution_count": null,
      "metadata": {
        "id": "mG-lrINMeWhr",
        "tags": []
      },
      "outputs": [],
      "source": [
        "# Conducted basic preprocessing to survey responses(remove stop words, punctuations, numbers,and lowercase, etc)\n",
        "\n",
        "# Added question context as a prefix to the responses for survey questions to help\n",
        "# generate accurate sentiment scores for questions' responses\n",
        "\n",
        "# Applied Snowflake functions to generate sentiment scores and summaries for each response\n",
        "\n",
        "sql_query = \"\"\"\n",
        "WITH stopwords AS (\n",
        "    SELECT 'a' AS stopword UNION ALL\n",
        "    SELECT 'an' UNION ALL\n",
        "    SELECT 'and' UNION ALL\n",
        "    SELECT 'are' UNION ALL\n",
        "    SELECT 'as' UNION ALL\n",
        "    SELECT 'at' UNION ALL\n",
        "    SELECT 'be' UNION ALL\n",
        "    SELECT 'by' UNION ALL\n",
        "    SELECT 'for' UNION ALL\n",
        "    SELECT 'has' UNION ALL\n",
        "    SELECT 'he' UNION ALL\n",
        "    SELECT 'in' UNION ALL\n",
        "    SELECT 'is' UNION ALL\n",
        "    SELECT 'it' UNION ALL\n",
        "    SELECT 'its' UNION ALL\n",
        "    SELECT 'of' UNION ALL\n",
        "    SELECT 'on' UNION ALL\n",
        "    SELECT 'that' UNION ALL\n",
        "    SELECT 'the' UNION ALL\n",
        "    SELECT 'was' UNION ALL\n",
        "    SELECT 'were' UNION ALL\n",
        "    SELECT 'will' UNION ALL\n",
        "    SELECT 'with'\n",
        "),\n",
        "stopword_pattern AS (\n",
        "    SELECT LISTAGG('\\\\b' || stopword || '\\\\b', '|') WITHIN GROUP (ORDER BY stopword) AS pattern\n",
        "    FROM stopwords\n",
        "),\n",
        "cleaned_comments AS (\n",
        "    SELECT\n",
        "        col1,\n",
        "        col2,\n",
        "        col3,\n",
        "        col4,\n",
        "        REGEXP_REPLACE(\n",
        "            REGEXP_REPLACE(\n",
        "                REGEXP_REPLACE(\n",
        "                    LOWER(comment), '\\\\b(' || (SELECT pattern FROM stopword_pattern) || ')\\\\b', ''\n",
        "                ), '[[:punct:]]', ''\n",
        "            ), '[0-9]', ''\n",
        "        ) AS cleaned_comment\n",
        "    FROM\n",
        "        data_path\n",
        ")\n",
        "SELECT\n",
        "    col1,\n",
        "    col2,\n",
        "    col3,\n",
        "    col4,\n",
        "    CASE\n",
        "        WHEN question = Q1 THEN\n",
        "            'Q1 prefix' || cleaned_comment\n",
        "        ELSE\n",
        "            cleaned_comment\n",
        "    END AS comment,\n",
        "    SNOWFLAKE.CORTEX.SUMMARIZE(\n",
        "        CASE\n",
        "            WHEN question = Q1 THEN\n",
        "                'Q1 prefix ' || cleaned_comment\n",
        "            ELSE\n",
        "                cleaned_comment\n",
        "        END\n",
        "    ) AS summary,\n",
        "    SNOWFLAKE.CORTEX.SENTIMENT(\n",
        "        CASE\n",
        "            WHEN question = Q1 THEN\n",
        "                'Q1 prefix ' || cleaned_comment\n",
        "            ELSE\n",
        "                cleaned_comment\n",
        "        END\n",
        "    ) AS sentiment\n",
        "FROM\n",
        "    cleaned_comments\n",
        "\"\"\""
      ]
    },
    {
      "cell_type": "code",
      "execution_count": null,
      "metadata": {
        "id": "BidmdZdkeWhr",
        "tags": []
      },
      "outputs": [],
      "source": [
        "# Bring the data to local pandas\n",
        "df = get_data(sql_query, cur)"
      ]
    },
    {
      "cell_type": "code",
      "execution_count": null,
      "metadata": {
        "id": "dcy-x8ZGeWhr",
        "tags": []
      },
      "outputs": [],
      "source": [
        "# Identify rows where the comment contains exactly the word \"nothing\"\n",
        "contains_nothing = df['comment'].str.contains(r'\\bnothing\\b', case=False, na=False)\n",
        "\n",
        "# Identify rows where the comment length is less than or equal to 15 words\n",
        "short_comments = df['comment'].str.split().str.len() <= 15\n",
        "\n",
        "nothing_df = df[contains_nothing & short_comments]\n",
        "\n",
        "# Exclude these short \"nothing\" responses out of future analysis, assuming there isn't useful information in those responses\n",
        "df = df.drop(nothing_df.index)"
      ]
    },
    {
      "cell_type": "markdown",
      "metadata": {
        "id": "Z_9krYE5eWhr"
      },
      "source": [
        "## Survey Respondents Profile"
      ]
    },
    {
      "cell_type": "code",
      "execution_count": null,
      "metadata": {
        "id": "cRC_iR1reWhr",
        "tags": []
      },
      "outputs": [],
      "source": [
        "# Map the questions to their short forms\n",
        "question_map = {\n",
        "    'Question 1 Conetent': 'Q1',\n",
        "    'Question 2 Content': 'Q2'\n",
        "}\n",
        "\n",
        "df['question_short'] = df['question'].map(question_map)"
      ]
    },
    {
      "cell_type": "markdown",
      "metadata": {
        "id": "_RA_0Hp7eWhr"
      },
      "source": [
        "### Distribution of Respondents by Subsidiary and Question"
      ]
    },
    {
      "cell_type": "code",
      "execution_count": null,
      "metadata": {
        "id": "pntSgTr0eWhr",
        "tags": []
      },
      "outputs": [],
      "source": [
        "total_count = len(df)\n",
        "\n",
        "# Create the count plot\n",
        "plt.figure(figsize=(8, 6))\n",
        "ax = sns.countplot(x='subsidiary', hue='question_short', data=df, palette='viridis')\n",
        "\n",
        "# Calculate percentages and update y-tick labels\n",
        "y_ticks = ax.get_yticks()\n",
        "y_labels = [f'{(y / total_count) * 100:.1f}%' for y in y_ticks if y > 0]  # Filter out zero ticks\n",
        "ax.set_yticklabels(y_labels)\n",
        "\n",
        "# Add percentages above the bars\n",
        "for p in ax.patches:\n",
        "    if p.get_height() > 0:  # Only annotate bars with height greater than zero\n",
        "        percentage = (p.get_height() / total_count) * 100\n",
        "        ax.annotate(f'{percentage:.1f}%',\n",
        "                    (p.get_x() + p.get_width() / 2., p.get_height()),\n",
        "                    ha='center', va='bottom', fontsize=10, color='black')\n",
        "\n",
        "plt.title('Distribution of Respondents by Subsidiary and Question')\n",
        "plt.xlabel('Subsidiary')\n",
        "plt.ylabel('Percentage')\n",
        "plt.legend(title='Question')\n",
        "\n",
        "plt.show()"
      ]
    },
    {
      "cell_type": "markdown",
      "metadata": {
        "id": "99xZaJ4oeWhr"
      },
      "source": [
        "### Distribution of Respondents by Region and Question"
      ]
    },
    {
      "cell_type": "code",
      "execution_count": null,
      "metadata": {
        "id": "JaUbA3B9eWhr",
        "tags": []
      },
      "outputs": [],
      "source": [
        "total_count = len(df)\n",
        "\n",
        "# Create the count plot\n",
        "plt.figure(figsize=(8, 6))\n",
        "ax = sns.countplot(x='region', hue='question_short', data=df, palette='plasma')\n",
        "\n",
        "# Calculate percentages for each bar and update y-tick labels\n",
        "y_ticks = ax.get_yticks()\n",
        "y_labels = [f'{(y / total_count) * 100:.1f}%' for y in y_ticks]\n",
        "ax.set_yticklabels(y_labels)\n",
        "\n",
        "# Add percentages above the bars\n",
        "for p in ax.patches:\n",
        "    if p.get_height() > 0:  # Only annotate bars with height greater than zero\n",
        "        percentage = (p.get_height() / total_count) * 100\n",
        "        ax.annotate(f'{percentage:.1f}%',\n",
        "                    (p.get_x() + p.get_width() / 2., p.get_height()),\n",
        "                    ha='center', va='bottom', fontsize=10, color='black')\n",
        "\n",
        "plt.title('Distribution of Respondents by Region and Question')\n",
        "plt.xlabel('Region')\n",
        "plt.ylabel('Percentage')\n",
        "plt.legend(title='Question')\n",
        "\n",
        "plt.show()"
      ]
    },
    {
      "cell_type": "markdown",
      "metadata": {
        "id": "E-rrZqOQeWhr"
      },
      "source": [
        "### Distribution of Respondents by Question"
      ]
    },
    {
      "cell_type": "code",
      "execution_count": null,
      "metadata": {
        "id": "ee8tAo72eWhs",
        "tags": []
      },
      "outputs": [],
      "source": [
        "total_count = len(df)\n",
        "\n",
        "# Create the count plot\n",
        "plt.figure(figsize=(6, 4))\n",
        "ax = sns.countplot(y='question', data=df, palette='cubehelix')\n",
        "\n",
        "# Calculate percentages and update x-tick labels\n",
        "x_ticks = ax.get_xticks()\n",
        "x_labels = [f'{(x / total_count) * 100:.1f}%' for x in x_ticks]\n",
        "ax.set_xticklabels(x_labels)\n",
        "\n",
        "# Add percentages next to the bars\n",
        "for p in ax.patches:\n",
        "    percentage = (p.get_width() / total_count) * 100\n",
        "    ax.annotate(f'{percentage:.1f}%',\n",
        "                (p.get_width(), p.get_y() + p.get_height() / 2.),\n",
        "                ha='left', va='center', fontsize=10, color='black')\n",
        "\n",
        "plt.title('Distribution of Respondents by Question')\n",
        "plt.xlabel('Percentage')\n",
        "plt.ylabel('Question')\n",
        "\n",
        "plt.show()"
      ]
    },
    {
      "cell_type": "markdown",
      "metadata": {
        "id": "7JSURzMMeWhs"
      },
      "source": [
        "### Cross-Tabulation of Subsidiary, Region, and Question Breakdown"
      ]
    },
    {
      "cell_type": "code",
      "execution_count": null,
      "metadata": {
        "id": "OFNwP_laeWhs",
        "tags": []
      },
      "outputs": [],
      "source": [
        "subsidiaries = df['subsidiary'].unique()\n",
        "regions = df['region'].unique()\n",
        "\n",
        "# Create a MultiIndex from all combinations of subsidiaries and regions\n",
        "index = pd.MultiIndex.from_product([subsidiaries, regions], names=['subsidiary', 'region'])\n",
        "\n",
        "# Create a crosstab for actual counts, reindex to include all combinations, and fill missing values with 0\n",
        "cross_tab_counts = pd.crosstab(index=[df['subsidiary'], df['region']], columns=df['question_short']).reindex(index, fill_value=0)\n",
        "\n",
        "cross_tab_counts['Total'] = cross_tab_counts.sum(axis=1)\n",
        "\n",
        "# Calculate the percentage breakdown within each subgroup\n",
        "cross_tab_percentage = cross_tab_counts.drop(columns='Total').div(cross_tab_counts['Total'].replace({0: np.nan}), axis=0)\n",
        "\n",
        "plt.figure(figsize=(14, 8))\n",
        "ax = sns.heatmap(cross_tab_counts, annot=True, cmap='coolwarm_r', fmt='d', cbar=True, linewidths=.5, linecolor='gray')\n",
        "\n",
        "# Overlay percentage annotations on the right side of the counts\n",
        "for y in range(cross_tab_percentage.shape[0]):\n",
        "    for x in range(cross_tab_percentage.shape[1]):\n",
        "        percentage = round(cross_tab_percentage.iloc[y, x] * 100) if not np.isnan(cross_tab_percentage.iloc[y, x]) else 0\n",
        "        ax.text(x + 0.75, y + 0.5, f'({percentage}%)',\n",
        "                horizontalalignment='center', verticalalignment='center',\n",
        "                fontsize=10, fontweight='bold')\n",
        "\n",
        "# Format the counts in the heatmap\n",
        "for text in ax.texts:\n",
        "    text.set_fontsize(10)\n",
        "    text.set_fontweight('bold')\n",
        "\n",
        "plt.title('Cross-Tabulation of Subsidiary, Region, and Question Breakdown')\n",
        "plt.xlabel('Question and Total')\n",
        "plt.ylabel('Subsidiary and Region')\n",
        "plt.xticks(rotation=0)\n",
        "plt.yticks(rotation=0)\n",
        "plt.show()"
      ]
    },
    {
      "cell_type": "markdown",
      "metadata": {
        "id": "djNE5MkEeWhs"
      },
      "source": [
        "### Cross-Tabulation of Question and Region"
      ]
    },
    {
      "cell_type": "code",
      "execution_count": null,
      "metadata": {
        "id": "QQXLBXRSeWhs",
        "tags": []
      },
      "outputs": [],
      "source": [
        "plt.figure(figsize=(4, 2))\n",
        "cross_tab = pd.crosstab(df['question_short'], df['region'])\n",
        "sns.heatmap(cross_tab, annot=True, cmap='magma', fmt='d')\n",
        "plt.title('Cross-Tabulation of Question and Region')\n",
        "plt.xlabel('Region')\n",
        "plt.ylabel('Question')\n",
        "plt.show()"
      ]
    },
    {
      "cell_type": "markdown",
      "metadata": {
        "id": "S-M2c4j2eWhs"
      },
      "source": [
        "### Cross-Tabulation of Question and Subsidiary"
      ]
    },
    {
      "cell_type": "code",
      "execution_count": null,
      "metadata": {
        "id": "MfHDthuneWhs",
        "tags": []
      },
      "outputs": [],
      "source": [
        "plt.figure(figsize=(4, 2))\n",
        "cross_tab = pd.crosstab(df['question_short'], df['subsidiary'])\n",
        "sns.heatmap(cross_tab, annot=True, cmap='magma', fmt='d')\n",
        "plt.title('Cross-Tabulation of Question and Subsidiary')\n",
        "plt.xlabel('Region')\n",
        "plt.ylabel('Question')\n",
        "plt.show()"
      ]
    },
    {
      "cell_type": "markdown",
      "metadata": {
        "id": "H8hBPebleWhs"
      },
      "source": [
        "## Sentiment Analysis"
      ]
    },
    {
      "cell_type": "markdown",
      "metadata": {
        "id": "voCbklDMeWhs"
      },
      "source": [
        "### Overall Sentiment Distribution"
      ]
    },
    {
      "cell_type": "code",
      "execution_count": null,
      "metadata": {
        "id": "p_-UmjvqeWhs",
        "tags": []
      },
      "outputs": [],
      "source": [
        "plt.figure(figsize=(8, 6))\n",
        "plt.hist(df['sentiment'], bins=30, edgecolor='k', alpha=0.7)\n",
        "plt.title('Overall Sentiment Distribution', fontsize=12)\n",
        "plt.xlabel('Sentiment', fontsize=12)\n",
        "plt.ylabel('Frequency', fontsize=12)\n",
        "plt.show()"
      ]
    },
    {
      "cell_type": "markdown",
      "metadata": {
        "id": "x7HqMk8VeWhs"
      },
      "source": [
        "### Sentiment Distribution by Question"
      ]
    },
    {
      "cell_type": "code",
      "execution_count": null,
      "metadata": {
        "id": "LcbgHWZBeWhs"
      },
      "outputs": [],
      "source": [
        "q1_df = df[df['question'] == \"Q1 Content\"]\n",
        "q2_df = df[df['question'] == \"Q2 Content\"]"
      ]
    },
    {
      "cell_type": "code",
      "execution_count": null,
      "metadata": {
        "id": "COiTy4rgeWhs",
        "tags": []
      },
      "outputs": [],
      "source": [
        "plt.figure(figsize=(8, 6))\n",
        "\n",
        "plt.hist(q1_df['sentiment'], bins=30, edgecolor='k', alpha=0.7, color='skyblue', label=\"Q1 Content\")\n",
        "\n",
        "plt.hist(q2_df['sentiment'], bins=30, edgecolor='k', color='salmon', label=\"Q2 Content\", alpha=0.5)\n",
        "\n",
        "plt.title('Sentiment Distribution by Question', fontsize=12)\n",
        "plt.xlabel('Sentiment', fontsize=12)\n",
        "plt.ylabel('Frequency', fontsize=12)\n",
        "\n",
        "plt.xticks(fontsize=12)\n",
        "plt.yticks(fontsize=12)\n",
        "plt.legend(fontsize=10, loc='upper left')\n",
        "\n",
        "plt.show()"
      ]
    },
    {
      "cell_type": "markdown",
      "metadata": {
        "id": "O_aRTjJkeWhs"
      },
      "source": [
        "### Box Plot of Sentiment by Question"
      ]
    },
    {
      "cell_type": "code",
      "execution_count": null,
      "metadata": {
        "id": "yTzL0flieWhs",
        "tags": []
      },
      "outputs": [],
      "source": [
        "sns.boxplot(x=\"sentiment\", y = \"question\", data = df)"
      ]
    },
    {
      "cell_type": "markdown",
      "metadata": {
        "id": "Kts5sJcWeWhs"
      },
      "source": [
        "### Average Sentiment Score by Region"
      ]
    },
    {
      "cell_type": "code",
      "execution_count": null,
      "metadata": {
        "id": "3vV6xMineWhs",
        "tags": []
      },
      "outputs": [],
      "source": [
        "avg_sentiment_by_region = df.groupby('region')['sentiment'].mean().reset_index()\n",
        "\n",
        "pivot_table = avg_sentiment_by_region.pivot_table(index='region', values='sentiment')\n",
        "\n",
        "plt.figure(figsize=(6, 4))\n",
        "sns.heatmap(pivot_table, annot=True, cmap='coolwarm', center=0)\n",
        "plt.title('Average Sentiment Score by Region', fontsize = 12)\n",
        "plt.xlabel('Region', fontsize = 12)\n",
        "plt.ylabel('Sentiment Score', fontsize = 12)\n",
        "plt.show()"
      ]
    },
    {
      "cell_type": "markdown",
      "metadata": {
        "id": "B_lSaPeeeWhs"
      },
      "source": [
        "### Sentiment Proportions by Region and Question"
      ]
    },
    {
      "cell_type": "code",
      "execution_count": null,
      "metadata": {
        "id": "8FB88P6peWhs",
        "tags": []
      },
      "outputs": [],
      "source": [
        "# Create a FacetGrid for the sentiment distribution by region\n",
        "g = sns.FacetGrid(df, col=\"region\", col_wrap=5, height=5, sharex=True, sharey=True)\n",
        "\n",
        "g.map_dataframe(plot_hist)\n",
        "\n",
        "g.set_axis_labels(\"Sentiment\", \"Percentage\")\n",
        "g.set_titles(col_template=\"{col_name} Region\")\n",
        "\n",
        "for ax in g.axes.flat:\n",
        "    handles, labels = ax.get_legend_handles_labels()\n",
        "    if handles:\n",
        "        ax.legend(handles=handles, labels=labels, loc='upper right', fontsize=10)\n",
        "        break\n",
        "\n",
        "plt.show()"
      ]
    },
    {
      "cell_type": "markdown",
      "metadata": {
        "id": "k8Xbnfe4eWhs"
      },
      "source": [
        "### Box Plot of Sentiment by Question and Region"
      ]
    },
    {
      "cell_type": "code",
      "execution_count": null,
      "metadata": {
        "id": "Gj0aOHLOeWhs",
        "tags": []
      },
      "outputs": [],
      "source": [
        "sns.boxplot(x=\"sentiment\", y=\"question\", hue = \"region\", data=df)\n",
        "\n",
        "plt.legend(title='Region', fontsize='small', title_fontsize='medium', loc='upper right', bbox_to_anchor=(1.25, 1))\n",
        "\n",
        "plt.title('Box Plot of Sentiment by Question and Region')\n",
        "plt.xlabel('Sentiment')\n",
        "plt.ylabel('Question')\n",
        "\n",
        "plt.show()"
      ]
    },
    {
      "cell_type": "markdown",
      "metadata": {
        "id": "qZaiqiFoeWhs"
      },
      "source": [
        "### Average Sentiment Score by Subsidiary"
      ]
    },
    {
      "cell_type": "code",
      "execution_count": null,
      "metadata": {
        "id": "b950BOYYeWhs",
        "tags": []
      },
      "outputs": [],
      "source": [
        "avg_sentiment_by_subsidiary = df.groupby('subsidiary')['sentiment'].mean().reset_index()\n",
        "\n",
        "pivot_table = avg_sentiment_by_subsidiary.pivot_table(index='subsidiary', values='sentiment')\n",
        "\n",
        "plt.figure(figsize=(6, 4))\n",
        "sns.heatmap(pivot_table, annot=True, cmap='coolwarm', center=0)\n",
        "plt.title('Average Sentiment Score by Subsidiary', fontsize = 12)\n",
        "plt.xlabel('Subsidiary', fontsize = 12)\n",
        "plt.ylabel('Sentiment Score', fontsize = 12)\n",
        "plt.show()"
      ]
    },
    {
      "cell_type": "markdown",
      "metadata": {
        "id": "ZzGXUTYpeWhs"
      },
      "source": [
        "### Sentiment Proportions by Subsidiary and Question"
      ]
    },
    {
      "cell_type": "code",
      "execution_count": null,
      "metadata": {
        "id": "Sk2ldVj2eWhv",
        "tags": []
      },
      "outputs": [],
      "source": [
        "g = sns.FacetGrid(df, col=\"subsidiary\", col_wrap=5, height=5, sharex=True, sharey=True)\n",
        "\n",
        "g.map_dataframe(plot_hist)\n",
        "\n",
        "g.set_axis_labels(\"Sentiment\", \"Percentage\")\n",
        "g.set_titles(col_template=\"{col_name} Subsidiary\")\n",
        "\n",
        "for ax in g.axes.flat:\n",
        "    handles, labels = ax.get_legend_handles_labels()\n",
        "    if handles:\n",
        "        ax.legend(handles=handles, labels=labels, loc='upper right', fontsize=10)\n",
        "        break\n",
        "\n",
        "plt.show()"
      ]
    },
    {
      "cell_type": "markdown",
      "metadata": {
        "id": "4ULh8v16eWhw"
      },
      "source": [
        "### Box Plot of Sentiment by Question and Subsidiary"
      ]
    },
    {
      "cell_type": "code",
      "execution_count": null,
      "metadata": {
        "id": "itFE0SHFeWhw",
        "tags": []
      },
      "outputs": [],
      "source": [
        "sns.boxplot(x=\"sentiment\", y = \"question\", hue = \"subsidiary\", data = df)\n",
        "\n",
        "plt.legend(title='Subsidiary', fontsize='small', title_fontsize='medium', loc='upper right', bbox_to_anchor=(1.25, 1))\n",
        "\n",
        "plt.title('Box Plot of Sentiment by Question and Subsidiary')\n",
        "plt.xlabel('Sentiment')\n",
        "plt.ylabel('Question')\n",
        "\n",
        "plt.show()"
      ]
    },
    {
      "cell_type": "markdown",
      "metadata": {
        "id": "aJ5XkwTkeWhw"
      },
      "source": [
        "### Proportion of Sentiment Categories Within Each Subsidiary"
      ]
    },
    {
      "cell_type": "code",
      "execution_count": null,
      "metadata": {
        "id": "7_4ulqQieWhw"
      },
      "outputs": [],
      "source": [
        "df['sentiment_category'] = df['sentiment'].apply(categorize_sentiment)"
      ]
    },
    {
      "cell_type": "code",
      "execution_count": null,
      "metadata": {
        "id": "0jsVaZfoeWhw",
        "tags": []
      },
      "outputs": [],
      "source": [
        "# Compute the proportion of sentiment categories by subsidiary\n",
        "sentiment_proportion_by_subsidiary = df.groupby(['subsidiary', 'sentiment_category']).size().unstack(fill_value=0)\n",
        "sentiment_proportion_by_subsidiary = sentiment_proportion_by_subsidiary.div(sentiment_proportion_by_subsidiary.sum(axis=1), axis=0)\n",
        "\n",
        "sentiment_proportion_by_subsidiary.plot(kind='bar', stacked=True, figsize=(8, 4), colormap='viridis')\n",
        "plt.title('Proportion of Sentiment Categories Within Each Subsidiary',fontsize=12)\n",
        "plt.xlabel('Subsidiary', fontsize=12)\n",
        "plt.ylabel('Proportion', fontsize=12)\n",
        "plt.legend(title='Sentiment Category', bbox_to_anchor=(1.05, 1), loc='upper left', fontsize='small', title_fontsize='small')\n",
        "plt.show()"
      ]
    },
    {
      "cell_type": "markdown",
      "metadata": {
        "id": "s8uAlzzjeWhw"
      },
      "source": [
        "### Proportion of Sentiment Categories Within Each Region"
      ]
    },
    {
      "cell_type": "code",
      "execution_count": null,
      "metadata": {
        "id": "TNbPQcJveWhw",
        "tags": []
      },
      "outputs": [],
      "source": [
        "# Compute the proportion of sentiment categories by region\n",
        "sentiment_proportion_by_region = df.groupby(['region', 'sentiment_category']).size().unstack(fill_value=0)\n",
        "sentiment_proportion_by_region = sentiment_proportion_by_region.div(sentiment_proportion_by_region.sum(axis=1), axis=0)\n",
        "\n",
        "sentiment_proportion_by_region.plot(kind='bar', stacked=True, figsize=(8, 4), colormap='viridis')\n",
        "plt.title('Proportion of Sentiment Categories Within Each Region',fontsize=12)\n",
        "plt.xlabel('Region', fontsize=12)\n",
        "plt.ylabel('Proportion', fontsize=12)\n",
        "plt.legend(title='Sentiment Category', bbox_to_anchor=(1.05, 1), loc='upper left', fontsize='small', title_fontsize='small')\n",
        "plt.show()"
      ]
    },
    {
      "cell_type": "markdown",
      "metadata": {
        "id": "dqt7oiLLeWhw"
      },
      "source": [
        "### Cross-Tabulation of Average Sentiment Scores by Subsidiary, Region, and Question"
      ]
    },
    {
      "cell_type": "code",
      "execution_count": null,
      "metadata": {
        "id": "Gd1ALgWdeWhw",
        "tags": []
      },
      "outputs": [],
      "source": [
        "subsidiaries = df['subsidiary'].unique()\n",
        "regions = df['region'].unique()\n",
        "questions = df['question_short'].unique()\n",
        "\n",
        "all_combinations = pd.DataFrame([(s, r, q) for s in subsidiaries for r in regions for q in questions],\n",
        "                                columns=['subsidiary', 'region', 'question_short'])\n",
        "\n",
        "average_sentiment = df.groupby(['subsidiary', 'region', 'question_short'])['sentiment'].mean().reset_index()\n",
        "\n",
        "average_sentiment_complete = pd.merge(all_combinations, average_sentiment,\n",
        "                                      on=['subsidiary', 'region', 'question_short'], how='left')\n",
        "\n",
        "average_sentiment_complete['sentiment'].fillna(0, inplace=True)\n",
        "\n",
        "pivot_table = average_sentiment_complete.pivot_table(index=['subsidiary', 'region'], columns='question_short', values='sentiment')\n",
        "\n",
        "plt.figure(figsize=(8, 6))\n",
        "ax = sns.heatmap(pivot_table, annot=True, cmap='coolwarm_r', linewidths=0.5, linecolor='gray', cbar_kws={'label': 'Average Sentiment Score'})\n",
        "\n",
        "plt.title('Average Sentiment Scores by Subsidiary, Region, and Question')\n",
        "plt.xlabel('Question')\n",
        "plt.ylabel('Subsidiary and Region')\n",
        "plt.xticks(rotation=0)\n",
        "plt.yticks(rotation=0)\n",
        "plt.show()"
      ]
    },
    {
      "cell_type": "markdown",
      "metadata": {
        "id": "zBawSk5neWhw",
        "tags": []
      },
      "source": [
        "## Frequent Key Words via Word Cloud"
      ]
    },
    {
      "cell_type": "markdown",
      "metadata": {
        "id": "PBX-gMuMeWhw"
      },
      "source": [
        "### Preprocessing Data to Prepare for Word Cloud"
      ]
    },
    {
      "cell_type": "code",
      "execution_count": null,
      "metadata": {
        "id": "FDjr0FUoeWhw",
        "tags": []
      },
      "outputs": [],
      "source": [
        "stop_words = set(stopwords.words('english'))\n",
        "custom_stopwords = {\"Add all the customized stop words based on specific context\"}\n",
        "stop_words.update(custom_stopwords)"
      ]
    },
    {
      "cell_type": "code",
      "execution_count": null,
      "metadata": {
        "id": "9kQg8z0beWhw",
        "tags": []
      },
      "outputs": [],
      "source": [
        "df['cleaned_comment'] = df['comment'].apply(clean_text)"
      ]
    },
    {
      "cell_type": "markdown",
      "metadata": {
        "id": "gAqKgCJbeWhw"
      },
      "source": [
        "### Word Cloud By Question & Polarized Sentiment Categories"
      ]
    },
    {
      "cell_type": "code",
      "execution_count": null,
      "metadata": {
        "id": "49iTNQMTeWhw",
        "tags": []
      },
      "outputs": [],
      "source": [
        "# Generate word clouds for each question and sentiment category\n",
        "questions = df['question'].unique()\n",
        "sentiment_categories = ['Strong Positive', 'Other', 'Strong Negative']\n",
        "\n",
        "for question in questions:\n",
        "    for sentiment in sentiment_categories:\n",
        "        # Filter the DataFrame based on question and sentiment category\n",
        "        filtered_df = df[(df['question'] == question) & (df['sentiment_category'] == sentiment)]\n",
        "        text = ' '.join(filtered_df['cleaned_comment'])\n",
        "        if text:\n",
        "            wordcloud = WordCloud(stopwords=stop_words, width=800, height=400, background_color='white').generate(text)\n",
        "            plt.figure(figsize=(8, 6))\n",
        "            plt.imshow(wordcloud, interpolation='bilinear')\n",
        "            plt.axis('off')\n",
        "            plt.title(f'Word Cloud for \"{question}\" ({sentiment} Sentiment)')\n",
        "            plt.show()"
      ]
    },
    {
      "cell_type": "markdown",
      "metadata": {
        "id": "t6HT72YjeWhw"
      },
      "source": [
        "## Topic Modeling with BERTopic"
      ]
    },
    {
      "cell_type": "markdown",
      "metadata": {
        "id": "OGtMSWixeWhw"
      },
      "source": [
        "### Data Preprocessing for Topic Modeling"
      ]
    },
    {
      "cell_type": "code",
      "execution_count": null,
      "metadata": {
        "id": "cIKS0qzUeWhw"
      },
      "outputs": [],
      "source": [
        "docs = clean_and_extract_docs_for_bertopic(df, text_column='comment', stop_words_extra=list(custom_stopwords))"
      ]
    },
    {
      "cell_type": "markdown",
      "metadata": {
        "id": "5v-fRp2weWhw",
        "tags": []
      },
      "source": [
        "### Fit Model & Analyze Topics"
      ]
    },
    {
      "cell_type": "markdown",
      "metadata": {
        "id": "O_4hBS3ueWhw"
      },
      "source": [
        "**Note: BERTopic is stochastic so the topics might differ across runs. This is mostly due to the stocastisch nature of UMAP.**"
      ]
    },
    {
      "cell_type": "code",
      "execution_count": null,
      "metadata": {
        "id": "IKa7twsGeWhw",
        "tags": []
      },
      "outputs": [],
      "source": [
        "topic_model = BERTopic(language=\"english\", min_topic_size=60, n_gram_range=(1,2), calculate_probabilities=True, verbose=True)\n",
        "topics, probs = topic_model.fit_transform(docs)"
      ]
    },
    {
      "cell_type": "markdown",
      "metadata": {
        "id": "UwVxELxpeWhw"
      },
      "source": [
        "**Note: The topic `-1` refers to all outliers and should typically be ignored.**"
      ]
    },
    {
      "cell_type": "code",
      "execution_count": null,
      "metadata": {
        "id": "VLQiRN71eWhw",
        "tags": []
      },
      "outputs": [],
      "source": [
        "freq = topic_model.get_topic_info()\n",
        "\n",
        "print(f\"Topics found: {freq.shape[0]}\")\n",
        "freq.head(10)"
      ]
    },
    {
      "cell_type": "code",
      "execution_count": null,
      "metadata": {
        "id": "LTQAvU3VeWhw",
        "tags": []
      },
      "outputs": [],
      "source": [
        "# This graph shows the hierarchical relationships of all topics and how they are related to each other\n",
        "topic_model.visualize_hierarchy()"
      ]
    },
    {
      "cell_type": "code",
      "execution_count": null,
      "metadata": {
        "id": "Ev8X_o6eeWhx",
        "tags": []
      },
      "outputs": [],
      "source": [
        "# This graph visualizes the selected terms for each topic. The numbers on the horizontal axis are\n",
        "# c-TF-IDF scores for us to compare between and within topics\n",
        "topic_model.visualize_barchart(top_n_topics=49)"
      ]
    },
    {
      "cell_type": "code",
      "execution_count": null,
      "metadata": {
        "id": "wFCh55ageWhx",
        "tags": []
      },
      "outputs": [],
      "source": [
        "# Save the model\n",
        "topic_model.save('bert_topics_model')"
      ]
    },
    {
      "cell_type": "markdown",
      "metadata": {
        "id": "HifrxNB-eWhx"
      },
      "source": [
        "**Note: The model and its internal settings can easily be saved. The documents and embeddings will not be saved. However, UMAP and HDBSCAN will be saved. As a result, when we reload the model and refit on the same documents, it will\n",
        "generate different number of topics each time even if the original topics are saved and loaded with the model.\n",
        "Therefore, we cannot replicate these topics results unless we explicitly save those topices and the topic-document relationships.**"
      ]
    },
    {
      "cell_type": "code",
      "execution_count": null,
      "metadata": {
        "id": "Ykv8Z0F9eWhx",
        "tags": []
      },
      "outputs": [],
      "source": [
        "# Load the model\n",
        "topic_model = BERTopic.load('bert_topics_model')\n",
        "freq = topic_model.get_topic_info()\n",
        "\n",
        "print(f\"Topics found: {freq.shape[0]}\")\n",
        "freq.head(10)"
      ]
    },
    {
      "cell_type": "markdown",
      "metadata": {
        "id": "qFPOF39ueWhx"
      },
      "source": [
        "### Add Topics Results to Our Dataframe"
      ]
    },
    {
      "cell_type": "code",
      "execution_count": null,
      "metadata": {
        "id": "6PyU1NI4eWhx",
        "tags": []
      },
      "outputs": [],
      "source": [
        "# For each document/row/survey response, only the most significant topic number from all the relevant\n",
        "# topics to that document will be saved, so there is 1 to 1 relationship between document and topic\n",
        "# in our dataframe.\n",
        "df['bert_topic'] = topics"
      ]
    },
    {
      "cell_type": "markdown",
      "metadata": {
        "id": "z6xsR-KYeWhx"
      },
      "source": [
        "### Classify Topics into Broader Categories and Select 10 Categories Based on Stakeholder's Areas of Interests"
      ]
    },
    {
      "cell_type": "code",
      "execution_count": null,
      "metadata": {
        "id": "rf7QMcyZeWhx",
        "tags": []
      },
      "outputs": [],
      "source": [
        "# Define the mapping of topics to broader sections/categories\n",
        "topic_to_category = {\n",
        "    1: 'Leadership',\n",
        "    12: 'Leadership',\n",
        "    2: 'Work Life Balance',\n",
        "    0: 'Teamwork',\n",
        "    # Omit all the rest mappings\n",
        "}\n",
        "\n",
        "# Map topics to categories\n",
        "df['category'] = df['bert_topic'].map(topic_to_category)"
      ]
    },
    {
      "cell_type": "code",
      "execution_count": null,
      "metadata": {
        "id": "PIAVcDF7eWhx",
        "tags": []
      },
      "outputs": [],
      "source": [
        "category_counts = df['category'].value_counts(dropna=False)\n",
        "print(category_counts)"
      ]
    },
    {
      "cell_type": "markdown",
      "metadata": {
        "id": "aS2jpcKMeWhx"
      },
      "source": [
        "**Note: RTO is another important area that the HR stakeholder is interested in, but it didn't appear in the selected terms of all the topics. So I decided to search for it among the rest of the survey respones that hasn't been mapped to a specific category.**"
      ]
    },
    {
      "cell_type": "code",
      "execution_count": null,
      "metadata": {
        "id": "GImJxfXFeWhx",
        "tags": []
      },
      "outputs": [],
      "source": [
        "# Filter out the rows where the comment contains the RTO keywords\n",
        "nan_category_df = df[df['category'].isnull()]\n",
        "rto_keywords = [\"add all the key words related to this topic\"]\n",
        "rto_keyword_mask = nan_category_df['comment'].str.contains('|'.join(rto_keywords), case=False, na=False)\n",
        "rto_df = nan_category_df[rto_keyword_mask]"
      ]
    },
    {
      "cell_type": "code",
      "execution_count": null,
      "metadata": {
        "id": "VMZS4CrVeWhx",
        "tags": []
      },
      "outputs": [],
      "source": [
        "rto_mask = df.index.isin(rto_df.index)\n",
        "\n",
        "# Update the 'category' column for these rows to 'RTO'\n",
        "df.loc[rto_mask, 'category'] = 'RTO'\n",
        "\n",
        "df['category'].value_counts(dropna=False)"
      ]
    },
    {
      "cell_type": "markdown",
      "metadata": {
        "id": "7OgUCXAteWhx"
      },
      "source": [
        "## Sentiment Analysis for Categories/Topics"
      ]
    },
    {
      "cell_type": "markdown",
      "metadata": {
        "id": "43S8Wap_eWhx"
      },
      "source": [
        "### Compare Average Sentiment per Category and Visualize Sentiment Distributions across Category"
      ]
    },
    {
      "cell_type": "code",
      "execution_count": null,
      "metadata": {
        "id": "8y_oADUreWhx",
        "tags": []
      },
      "outputs": [],
      "source": [
        "avg_sentiment = df.groupby('category')['sentiment'].mean().reset_index()\n",
        "\n",
        "print(\"Average Sentiment for Each Topic:\")\n",
        "print(avg_sentiment)\n",
        "\n",
        "unique_sections = df['category'].dropna().unique()\n",
        "for section in unique_sections:\n",
        "    plt.figure(figsize=(6, 4))\n",
        "    sns.histplot(df[df['category'] == section]['sentiment'], bins=30, kde=True)\n",
        "    plt.title(f'Sentiment Distribution for {section}')\n",
        "    plt.xlabel('Sentiment')\n",
        "    plt.ylabel('Frequency')\n",
        "    plt.show()"
      ]
    },
    {
      "cell_type": "markdown",
      "metadata": {
        "id": "fa9SfXw4eWhx"
      },
      "source": [
        "### Compare Positive and Negative Sentiment Proportion per Category"
      ]
    },
    {
      "cell_type": "code",
      "execution_count": null,
      "metadata": {
        "id": "P8XhD2sCeWhx",
        "tags": []
      },
      "outputs": [],
      "source": [
        "# Calculate the total number of sentiment scores for each category\n",
        "total_sentiment = df.groupby('category')['sentiment'].count().reset_index(name='total_count')\n",
        "\n",
        "# Calculate the number of positive sentiment scores for each category\n",
        "positive_sentiment = df[df['sentiment'] > 0].groupby('category')['sentiment'].count().reset_index(name='positive_count')\n",
        "\n",
        "# Calculate the number of negative sentiment scores for each category\n",
        "negative_sentiment = df[df['sentiment'] < 0].groupby('category')['sentiment'].count().reset_index(name='negative_count')\n",
        "\n",
        "sentiment_counts = total_sentiment.merge(positive_sentiment, on='category', how='left').merge(negative_sentiment, on='category', how='left')\n",
        "\n",
        "# Fill NaN values with 0 (in case there are categories with no positive or negative sentiments)\n",
        "sentiment_counts = sentiment_counts.fillna(0)\n",
        "\n",
        "sentiment_counts['positive_percentage'] = (sentiment_counts['positive_count'] / sentiment_counts['total_count']) * 100\n",
        "sentiment_counts['negative_percentage'] = (sentiment_counts['negative_count'] / sentiment_counts['total_count']) * 100\n",
        "\n",
        "final_table = sentiment_counts[['category', 'positive_percentage', 'negative_percentage']]\n",
        "\n",
        "final_table"
      ]
    },
    {
      "cell_type": "markdown",
      "metadata": {
        "id": "yVH5MQ8oeWhx"
      },
      "source": [
        "### Counts by Category and Subsidiary"
      ]
    },
    {
      "cell_type": "code",
      "execution_count": null,
      "metadata": {
        "id": "Vh5mapaaeWhx",
        "tags": []
      },
      "outputs": [],
      "source": [
        "# Create a crosstab for counts by category and subsidiary\n",
        "category_subsidiary_counts = pd.crosstab(df['category'], df['subsidiary'])\n",
        "\n",
        "print(\"Counts by Category and Subsidiary:\")\n",
        "print(category_subsidiary_counts)"
      ]
    },
    {
      "cell_type": "markdown",
      "metadata": {
        "id": "aSdv0G3UeWhx"
      },
      "source": [
        "### Counts by Category and Region"
      ]
    },
    {
      "cell_type": "code",
      "execution_count": null,
      "metadata": {
        "id": "HQ7nABrFeWhx",
        "tags": []
      },
      "outputs": [],
      "source": [
        "# Create a crosstab for counts by category and region\n",
        "category_region_counts = pd.crosstab(df['category'], df['region'])\n",
        "\n",
        "print(\"Counts by Category and Region:\")\n",
        "print(category_region_counts)"
      ]
    },
    {
      "cell_type": "code",
      "execution_count": null,
      "metadata": {
        "id": "LZPV7_jCeWhx",
        "tags": []
      },
      "outputs": [],
      "source": [
        "sentiment_mapping = {\n",
        "    'Strong Negative Sentiment': 1,\n",
        "    'Moderate Negative Sentiment': 2,\n",
        "    'Mild Negative Sentiment': 3,\n",
        "    'Mild Positive Sentiment': 4,\n",
        "    'Moderate Positive Sentiment': 5,\n",
        "    'Strong Positive Sentiment': 6,\n",
        "}\n",
        "\n",
        "full_cmap = sns.color_palette([\n",
        "    \"#d73027\",  # Strong Negative - Red\n",
        "    \"#f46d43\",  # Moderate Negative - Red-Orange\n",
        "    \"#fdae61\",  # Mild Negative - Orange-Yellow\n",
        "    \"#fee08b\",  # Mild Positive - Yellow-White\n",
        "    \"#abd9e9\",  # Moderate Positive - Light Blue\n",
        "    \"#4575b4\",  # Strong Positive - Blue\n",
        "])"
      ]
    },
    {
      "cell_type": "markdown",
      "metadata": {
        "id": "16StBHQveWhx"
      },
      "source": [
        "### Visualize Average Sentiment by Category and Subsidiary in Various Ways"
      ]
    },
    {
      "cell_type": "code",
      "execution_count": null,
      "metadata": {
        "id": "JRGmp8DQeWhy",
        "tags": []
      },
      "outputs": [],
      "source": [
        "# Remove rows with NaN in the 'category' column\n",
        "df = df.dropna(subset=['category'])\n",
        "\n",
        "# Create the pivot table for average sentiment\n",
        "pivot_table = pd.pivot_table(\n",
        "    df,\n",
        "    values='sentiment',\n",
        "    index='category',\n",
        "    columns='subsidiary',\n",
        "    aggfunc='mean'\n",
        ")\n",
        "\n",
        "# Filter out groups with fewer than 25 counts\n",
        "filtered_pivot_table = pivot_table.where(category_subsidiary_counts >= 25)\n",
        "\n",
        "print(filtered_pivot_table)\n",
        "\n",
        "plt.figure(figsize=(10, 8))\n",
        "sns.heatmap(filtered_pivot_table, annot=True, cmap='coolwarm_r', center=0, linewidths=.5, fmt='.2f')\n",
        "plt.title('Average Sentiment by Category and Subsidiary')\n",
        "plt.show()\n",
        "\n",
        "\n",
        "# Apply the categorization function to the entire pivot table\n",
        "categorized_pivot_table = filtered_pivot_table.applymap(classify_sentiment)\n",
        "\n",
        "# Apply the mapping to the categorized pivot table for visualization\n",
        "visualization_pivot_table = categorized_pivot_table.replace(sentiment_mapping)\n",
        "\n",
        "# Manually map each sentiment number to its corresponding color\n",
        "full_color_dict = {val: full_cmap[i] for i, val in enumerate(sentiment_mapping.values())}\n",
        "\n",
        "custom_cmap = [full_color_dict[val] for val in sorted(sentiment_mapping.values()) if val in visualization_pivot_table.values]\n",
        "\n",
        "plt.figure(figsize=(10, 8))\n",
        "sns.heatmap(visualization_pivot_table, cmap=custom_cmap, linewidths=.5,\n",
        "            cbar_kws={'ticks': sorted(sentiment_mapping.values())})\n",
        "\n",
        "colorbar = plt.gca().collections[0].colorbar\n",
        "colorbar.set_ticklabels([k for k, v in sorted(sentiment_mapping.items(), key=lambda item: item[1])])\n",
        "\n",
        "plt.title('Categorized Sentiment by Category and Subsidiary')\n",
        "plt.show()"
      ]
    },
    {
      "cell_type": "markdown",
      "metadata": {
        "id": "XZ0JP71teWhy",
        "tags": []
      },
      "source": [
        "**Note: The blank cells indicate that there are fewer than 25 counts in those subgroups, and they are excluded from the analysis due to the small size.**"
      ]
    },
    {
      "cell_type": "markdown",
      "metadata": {
        "id": "6StppjGweWhy"
      },
      "source": [
        "### Visualize Average Sentiment by Category and Region in Various Ways"
      ]
    },
    {
      "cell_type": "code",
      "execution_count": null,
      "metadata": {
        "id": "Nx6tqEyIeWhy",
        "tags": []
      },
      "outputs": [],
      "source": [
        "# Remove rows with NaN in the 'category' column\n",
        "df = df.dropna(subset=['category'])\n",
        "\n",
        "# Create the pivot table for average sentiment\n",
        "pivot_table = pd.pivot_table(\n",
        "    df,\n",
        "    values='sentiment',\n",
        "    index='category',\n",
        "    columns='region',\n",
        "    aggfunc='mean'\n",
        ")\n",
        "\n",
        "# Filter out groups with fewer than 25 counts\n",
        "filtered_pivot_table = pivot_table.where(category_region_counts >= 25)\n",
        "print(filtered_pivot_table)\n",
        "\n",
        "# Visualize the pivot table as a heatmap\n",
        "plt.figure(figsize=(10, 8))\n",
        "sns.heatmap(filtered_pivot_table, annot=True, cmap='coolwarm_r', center=0, linewidths=.5, fmt='.2f')\n",
        "plt.title('Average Sentiment by Category and Region')\n",
        "plt.show()\n",
        "\n",
        "# Apply the categorization function to the entire filtered pivot table\n",
        "categorized_pivot_table = filtered_pivot_table.applymap(classify_sentiment)\n",
        "\n",
        "# Apply the mapping to the categorized pivot table for visualization\n",
        "visualization_pivot_table = categorized_pivot_table.replace(sentiment_mapping)\n",
        "\n",
        "# Identify the unique sentiment categories present in the data\n",
        "present_categories = categorized_pivot_table.stack().unique()\n",
        "\n",
        "# Create a mapping for the present categories to their numerical values\n",
        "present_mapping = {cat: sentiment_mapping[cat] for cat in present_categories}\n",
        "\n",
        "filtered_cmap = [full_cmap[sentiment_mapping[cat] - 1] for cat in sorted(present_categories, key=lambda x: sentiment_mapping[x])]\n",
        "\n",
        "# Create the heatmap using the filtered color palette\n",
        "plt.figure(figsize=(10, 8))\n",
        "sns.heatmap(visualization_pivot_table, cmap=filtered_cmap, linewidths=.5,\n",
        "            cbar_kws={'ticks': sorted(present_mapping.values())})\n",
        "\n",
        "# Customizing the colorbar to show only the present categories\n",
        "colorbar = plt.gca().collections[0].colorbar\n",
        "colorbar.set_ticklabels(sorted(present_mapping.keys(), key=lambda x: sentiment_mapping[x]))\n",
        "\n",
        "plt.title('Categorized Sentiment by Category and Region')\n",
        "plt.show()"
      ]
    },
    {
      "cell_type": "markdown",
      "metadata": {
        "id": "d3ebCRmkeWhy"
      },
      "source": [
        "**Note: Similarly, the blank cells indicate that there are fewer than 25 counts in those subgroups, and they are excluded from the analysis due to the small size.**"
      ]
    }
  ],
  "metadata": {
    "availableInstances": [
      {
        "_defaultOrder": 0,
        "_isFastLaunch": true,
        "category": "General purpose",
        "gpuNum": 0,
        "hideHardwareSpecs": false,
        "memoryGiB": 4,
        "name": "ml.t3.medium",
        "vcpuNum": 2
      },
      {
        "_defaultOrder": 1,
        "_isFastLaunch": false,
        "category": "General purpose",
        "gpuNum": 0,
        "hideHardwareSpecs": false,
        "memoryGiB": 8,
        "name": "ml.t3.large",
        "vcpuNum": 2
      },
      {
        "_defaultOrder": 2,
        "_isFastLaunch": false,
        "category": "General purpose",
        "gpuNum": 0,
        "hideHardwareSpecs": false,
        "memoryGiB": 16,
        "name": "ml.t3.xlarge",
        "vcpuNum": 4
      },
      {
        "_defaultOrder": 3,
        "_isFastLaunch": false,
        "category": "General purpose",
        "gpuNum": 0,
        "hideHardwareSpecs": false,
        "memoryGiB": 32,
        "name": "ml.t3.2xlarge",
        "vcpuNum": 8
      },
      {
        "_defaultOrder": 4,
        "_isFastLaunch": true,
        "category": "General purpose",
        "gpuNum": 0,
        "hideHardwareSpecs": false,
        "memoryGiB": 8,
        "name": "ml.m5.large",
        "vcpuNum": 2
      },
      {
        "_defaultOrder": 5,
        "_isFastLaunch": false,
        "category": "General purpose",
        "gpuNum": 0,
        "hideHardwareSpecs": false,
        "memoryGiB": 16,
        "name": "ml.m5.xlarge",
        "vcpuNum": 4
      },
      {
        "_defaultOrder": 6,
        "_isFastLaunch": false,
        "category": "General purpose",
        "gpuNum": 0,
        "hideHardwareSpecs": false,
        "memoryGiB": 32,
        "name": "ml.m5.2xlarge",
        "vcpuNum": 8
      },
      {
        "_defaultOrder": 7,
        "_isFastLaunch": false,
        "category": "General purpose",
        "gpuNum": 0,
        "hideHardwareSpecs": false,
        "memoryGiB": 64,
        "name": "ml.m5.4xlarge",
        "vcpuNum": 16
      },
      {
        "_defaultOrder": 8,
        "_isFastLaunch": false,
        "category": "General purpose",
        "gpuNum": 0,
        "hideHardwareSpecs": false,
        "memoryGiB": 128,
        "name": "ml.m5.8xlarge",
        "vcpuNum": 32
      },
      {
        "_defaultOrder": 9,
        "_isFastLaunch": false,
        "category": "General purpose",
        "gpuNum": 0,
        "hideHardwareSpecs": false,
        "memoryGiB": 192,
        "name": "ml.m5.12xlarge",
        "vcpuNum": 48
      },
      {
        "_defaultOrder": 10,
        "_isFastLaunch": false,
        "category": "General purpose",
        "gpuNum": 0,
        "hideHardwareSpecs": false,
        "memoryGiB": 256,
        "name": "ml.m5.16xlarge",
        "vcpuNum": 64
      },
      {
        "_defaultOrder": 11,
        "_isFastLaunch": false,
        "category": "General purpose",
        "gpuNum": 0,
        "hideHardwareSpecs": false,
        "memoryGiB": 384,
        "name": "ml.m5.24xlarge",
        "vcpuNum": 96
      },
      {
        "_defaultOrder": 12,
        "_isFastLaunch": false,
        "category": "General purpose",
        "gpuNum": 0,
        "hideHardwareSpecs": false,
        "memoryGiB": 8,
        "name": "ml.m5d.large",
        "vcpuNum": 2
      },
      {
        "_defaultOrder": 13,
        "_isFastLaunch": false,
        "category": "General purpose",
        "gpuNum": 0,
        "hideHardwareSpecs": false,
        "memoryGiB": 16,
        "name": "ml.m5d.xlarge",
        "vcpuNum": 4
      },
      {
        "_defaultOrder": 14,
        "_isFastLaunch": false,
        "category": "General purpose",
        "gpuNum": 0,
        "hideHardwareSpecs": false,
        "memoryGiB": 32,
        "name": "ml.m5d.2xlarge",
        "vcpuNum": 8
      },
      {
        "_defaultOrder": 15,
        "_isFastLaunch": false,
        "category": "General purpose",
        "gpuNum": 0,
        "hideHardwareSpecs": false,
        "memoryGiB": 64,
        "name": "ml.m5d.4xlarge",
        "vcpuNum": 16
      },
      {
        "_defaultOrder": 16,
        "_isFastLaunch": false,
        "category": "General purpose",
        "gpuNum": 0,
        "hideHardwareSpecs": false,
        "memoryGiB": 128,
        "name": "ml.m5d.8xlarge",
        "vcpuNum": 32
      },
      {
        "_defaultOrder": 17,
        "_isFastLaunch": false,
        "category": "General purpose",
        "gpuNum": 0,
        "hideHardwareSpecs": false,
        "memoryGiB": 192,
        "name": "ml.m5d.12xlarge",
        "vcpuNum": 48
      },
      {
        "_defaultOrder": 18,
        "_isFastLaunch": false,
        "category": "General purpose",
        "gpuNum": 0,
        "hideHardwareSpecs": false,
        "memoryGiB": 256,
        "name": "ml.m5d.16xlarge",
        "vcpuNum": 64
      },
      {
        "_defaultOrder": 19,
        "_isFastLaunch": false,
        "category": "General purpose",
        "gpuNum": 0,
        "hideHardwareSpecs": false,
        "memoryGiB": 384,
        "name": "ml.m5d.24xlarge",
        "vcpuNum": 96
      },
      {
        "_defaultOrder": 20,
        "_isFastLaunch": false,
        "category": "General purpose",
        "gpuNum": 0,
        "hideHardwareSpecs": true,
        "memoryGiB": 0,
        "name": "ml.geospatial.interactive",
        "supportedImageNames": [
          "sagemaker-geospatial-v1-0"
        ],
        "vcpuNum": 0
      },
      {
        "_defaultOrder": 21,
        "_isFastLaunch": true,
        "category": "Compute optimized",
        "gpuNum": 0,
        "hideHardwareSpecs": false,
        "memoryGiB": 4,
        "name": "ml.c5.large",
        "vcpuNum": 2
      },
      {
        "_defaultOrder": 22,
        "_isFastLaunch": false,
        "category": "Compute optimized",
        "gpuNum": 0,
        "hideHardwareSpecs": false,
        "memoryGiB": 8,
        "name": "ml.c5.xlarge",
        "vcpuNum": 4
      },
      {
        "_defaultOrder": 23,
        "_isFastLaunch": false,
        "category": "Compute optimized",
        "gpuNum": 0,
        "hideHardwareSpecs": false,
        "memoryGiB": 16,
        "name": "ml.c5.2xlarge",
        "vcpuNum": 8
      },
      {
        "_defaultOrder": 24,
        "_isFastLaunch": false,
        "category": "Compute optimized",
        "gpuNum": 0,
        "hideHardwareSpecs": false,
        "memoryGiB": 32,
        "name": "ml.c5.4xlarge",
        "vcpuNum": 16
      },
      {
        "_defaultOrder": 25,
        "_isFastLaunch": false,
        "category": "Compute optimized",
        "gpuNum": 0,
        "hideHardwareSpecs": false,
        "memoryGiB": 72,
        "name": "ml.c5.9xlarge",
        "vcpuNum": 36
      },
      {
        "_defaultOrder": 26,
        "_isFastLaunch": false,
        "category": "Compute optimized",
        "gpuNum": 0,
        "hideHardwareSpecs": false,
        "memoryGiB": 96,
        "name": "ml.c5.12xlarge",
        "vcpuNum": 48
      },
      {
        "_defaultOrder": 27,
        "_isFastLaunch": false,
        "category": "Compute optimized",
        "gpuNum": 0,
        "hideHardwareSpecs": false,
        "memoryGiB": 144,
        "name": "ml.c5.18xlarge",
        "vcpuNum": 72
      },
      {
        "_defaultOrder": 28,
        "_isFastLaunch": false,
        "category": "Compute optimized",
        "gpuNum": 0,
        "hideHardwareSpecs": false,
        "memoryGiB": 192,
        "name": "ml.c5.24xlarge",
        "vcpuNum": 96
      },
      {
        "_defaultOrder": 29,
        "_isFastLaunch": true,
        "category": "Accelerated computing",
        "gpuNum": 1,
        "hideHardwareSpecs": false,
        "memoryGiB": 16,
        "name": "ml.g4dn.xlarge",
        "vcpuNum": 4
      },
      {
        "_defaultOrder": 30,
        "_isFastLaunch": false,
        "category": "Accelerated computing",
        "gpuNum": 1,
        "hideHardwareSpecs": false,
        "memoryGiB": 32,
        "name": "ml.g4dn.2xlarge",
        "vcpuNum": 8
      },
      {
        "_defaultOrder": 31,
        "_isFastLaunch": false,
        "category": "Accelerated computing",
        "gpuNum": 1,
        "hideHardwareSpecs": false,
        "memoryGiB": 64,
        "name": "ml.g4dn.4xlarge",
        "vcpuNum": 16
      },
      {
        "_defaultOrder": 32,
        "_isFastLaunch": false,
        "category": "Accelerated computing",
        "gpuNum": 1,
        "hideHardwareSpecs": false,
        "memoryGiB": 128,
        "name": "ml.g4dn.8xlarge",
        "vcpuNum": 32
      },
      {
        "_defaultOrder": 33,
        "_isFastLaunch": false,
        "category": "Accelerated computing",
        "gpuNum": 4,
        "hideHardwareSpecs": false,
        "memoryGiB": 192,
        "name": "ml.g4dn.12xlarge",
        "vcpuNum": 48
      },
      {
        "_defaultOrder": 34,
        "_isFastLaunch": false,
        "category": "Accelerated computing",
        "gpuNum": 1,
        "hideHardwareSpecs": false,
        "memoryGiB": 256,
        "name": "ml.g4dn.16xlarge",
        "vcpuNum": 64
      },
      {
        "_defaultOrder": 35,
        "_isFastLaunch": false,
        "category": "Accelerated computing",
        "gpuNum": 1,
        "hideHardwareSpecs": false,
        "memoryGiB": 61,
        "name": "ml.p3.2xlarge",
        "vcpuNum": 8
      },
      {
        "_defaultOrder": 36,
        "_isFastLaunch": false,
        "category": "Accelerated computing",
        "gpuNum": 4,
        "hideHardwareSpecs": false,
        "memoryGiB": 244,
        "name": "ml.p3.8xlarge",
        "vcpuNum": 32
      },
      {
        "_defaultOrder": 37,
        "_isFastLaunch": false,
        "category": "Accelerated computing",
        "gpuNum": 8,
        "hideHardwareSpecs": false,
        "memoryGiB": 488,
        "name": "ml.p3.16xlarge",
        "vcpuNum": 64
      },
      {
        "_defaultOrder": 38,
        "_isFastLaunch": false,
        "category": "Accelerated computing",
        "gpuNum": 8,
        "hideHardwareSpecs": false,
        "memoryGiB": 768,
        "name": "ml.p3dn.24xlarge",
        "vcpuNum": 96
      },
      {
        "_defaultOrder": 39,
        "_isFastLaunch": false,
        "category": "Memory Optimized",
        "gpuNum": 0,
        "hideHardwareSpecs": false,
        "memoryGiB": 16,
        "name": "ml.r5.large",
        "vcpuNum": 2
      },
      {
        "_defaultOrder": 40,
        "_isFastLaunch": false,
        "category": "Memory Optimized",
        "gpuNum": 0,
        "hideHardwareSpecs": false,
        "memoryGiB": 32,
        "name": "ml.r5.xlarge",
        "vcpuNum": 4
      },
      {
        "_defaultOrder": 41,
        "_isFastLaunch": false,
        "category": "Memory Optimized",
        "gpuNum": 0,
        "hideHardwareSpecs": false,
        "memoryGiB": 64,
        "name": "ml.r5.2xlarge",
        "vcpuNum": 8
      },
      {
        "_defaultOrder": 42,
        "_isFastLaunch": false,
        "category": "Memory Optimized",
        "gpuNum": 0,
        "hideHardwareSpecs": false,
        "memoryGiB": 128,
        "name": "ml.r5.4xlarge",
        "vcpuNum": 16
      },
      {
        "_defaultOrder": 43,
        "_isFastLaunch": false,
        "category": "Memory Optimized",
        "gpuNum": 0,
        "hideHardwareSpecs": false,
        "memoryGiB": 256,
        "name": "ml.r5.8xlarge",
        "vcpuNum": 32
      },
      {
        "_defaultOrder": 44,
        "_isFastLaunch": false,
        "category": "Memory Optimized",
        "gpuNum": 0,
        "hideHardwareSpecs": false,
        "memoryGiB": 384,
        "name": "ml.r5.12xlarge",
        "vcpuNum": 48
      },
      {
        "_defaultOrder": 45,
        "_isFastLaunch": false,
        "category": "Memory Optimized",
        "gpuNum": 0,
        "hideHardwareSpecs": false,
        "memoryGiB": 512,
        "name": "ml.r5.16xlarge",
        "vcpuNum": 64
      },
      {
        "_defaultOrder": 46,
        "_isFastLaunch": false,
        "category": "Memory Optimized",
        "gpuNum": 0,
        "hideHardwareSpecs": false,
        "memoryGiB": 768,
        "name": "ml.r5.24xlarge",
        "vcpuNum": 96
      },
      {
        "_defaultOrder": 47,
        "_isFastLaunch": false,
        "category": "Accelerated computing",
        "gpuNum": 1,
        "hideHardwareSpecs": false,
        "memoryGiB": 16,
        "name": "ml.g5.xlarge",
        "vcpuNum": 4
      },
      {
        "_defaultOrder": 48,
        "_isFastLaunch": false,
        "category": "Accelerated computing",
        "gpuNum": 1,
        "hideHardwareSpecs": false,
        "memoryGiB": 32,
        "name": "ml.g5.2xlarge",
        "vcpuNum": 8
      },
      {
        "_defaultOrder": 49,
        "_isFastLaunch": false,
        "category": "Accelerated computing",
        "gpuNum": 1,
        "hideHardwareSpecs": false,
        "memoryGiB": 64,
        "name": "ml.g5.4xlarge",
        "vcpuNum": 16
      },
      {
        "_defaultOrder": 50,
        "_isFastLaunch": false,
        "category": "Accelerated computing",
        "gpuNum": 1,
        "hideHardwareSpecs": false,
        "memoryGiB": 128,
        "name": "ml.g5.8xlarge",
        "vcpuNum": 32
      },
      {
        "_defaultOrder": 51,
        "_isFastLaunch": false,
        "category": "Accelerated computing",
        "gpuNum": 1,
        "hideHardwareSpecs": false,
        "memoryGiB": 256,
        "name": "ml.g5.16xlarge",
        "vcpuNum": 64
      },
      {
        "_defaultOrder": 52,
        "_isFastLaunch": false,
        "category": "Accelerated computing",
        "gpuNum": 4,
        "hideHardwareSpecs": false,
        "memoryGiB": 192,
        "name": "ml.g5.12xlarge",
        "vcpuNum": 48
      },
      {
        "_defaultOrder": 53,
        "_isFastLaunch": false,
        "category": "Accelerated computing",
        "gpuNum": 4,
        "hideHardwareSpecs": false,
        "memoryGiB": 384,
        "name": "ml.g5.24xlarge",
        "vcpuNum": 96
      },
      {
        "_defaultOrder": 54,
        "_isFastLaunch": false,
        "category": "Accelerated computing",
        "gpuNum": 8,
        "hideHardwareSpecs": false,
        "memoryGiB": 768,
        "name": "ml.g5.48xlarge",
        "vcpuNum": 192
      },
      {
        "_defaultOrder": 55,
        "_isFastLaunch": false,
        "category": "Accelerated computing",
        "gpuNum": 8,
        "hideHardwareSpecs": false,
        "memoryGiB": 1152,
        "name": "ml.p4d.24xlarge",
        "vcpuNum": 96
      },
      {
        "_defaultOrder": 56,
        "_isFastLaunch": false,
        "category": "Accelerated computing",
        "gpuNum": 8,
        "hideHardwareSpecs": false,
        "memoryGiB": 1152,
        "name": "ml.p4de.24xlarge",
        "vcpuNum": 96
      },
      {
        "_defaultOrder": 57,
        "_isFastLaunch": false,
        "category": "Accelerated computing",
        "gpuNum": 0,
        "hideHardwareSpecs": false,
        "memoryGiB": 32,
        "name": "ml.trn1.2xlarge",
        "vcpuNum": 8
      },
      {
        "_defaultOrder": 58,
        "_isFastLaunch": false,
        "category": "Accelerated computing",
        "gpuNum": 0,
        "hideHardwareSpecs": false,
        "memoryGiB": 512,
        "name": "ml.trn1.32xlarge",
        "vcpuNum": 128
      },
      {
        "_defaultOrder": 59,
        "_isFastLaunch": false,
        "category": "Accelerated computing",
        "gpuNum": 0,
        "hideHardwareSpecs": false,
        "memoryGiB": 512,
        "name": "ml.trn1n.32xlarge",
        "vcpuNum": 128
      }
    ],
    "colab": {
      "provenance": []
    },
    "instance_type": "ml.t3.medium",
    "kernelspec": {
      "display_name": "Python 3 (Data Science 3.0)",
      "language": "python",
      "name": "python3__SAGEMAKER_INTERNAL__arn:aws:sagemaker:us-east-1:081325390199:image/sagemaker-data-science-310-v1"
    },
    "language_info": {
      "codemirror_mode": {
        "name": "ipython",
        "version": 3
      },
      "file_extension": ".py",
      "mimetype": "text/x-python",
      "name": "python",
      "nbconvert_exporter": "python",
      "pygments_lexer": "ipython3",
      "version": "3.10.6"
    },
    "lcc_arn": "arn:aws:sagemaker:us-east-1:802116178913:studio-lifecycle-config/studio-kernel-gateway"
  },
  "nbformat": 4,
  "nbformat_minor": 0
}
